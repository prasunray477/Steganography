{
  "cells": [
    {
      "cell_type": "code",
      "execution_count": null,
      "metadata": {
        "colab": {
          "base_uri": "https://localhost:8080/"
        },
        "id": "bZedR7fQCA_l",
        "outputId": "f552e04f-ffdb-4010-f820-071aedda629a"
      },
      "outputs": [],
      "source": [
        "!pip install pycryptodome\n",
        "import cv2\n",
        "import string\n",
        "import os\n",
        "from Crypto.Cipher import AES\n",
        "from Crypto.Random import get_random_bytes\n",
        "from Crypto.Util.Padding import pad, unpad\n",
        "import hashlib\n",
        "import matplotlib.pyplot as plt"
      ]
    },
    {
      "cell_type": "code",
      "execution_count": null,
      "metadata": {
        "colab": {
          "base_uri": "https://localhost:8080/",
          "height": 349
        },
        "collapsed": true,
        "id": "0F8PwexlJWGx",
        "outputId": "547b7bab-292c-4486-fb5b-3246147a14b3"
      },
      "outputs": [],
      "source": [
        "image_path=input(\"Enter the Image path: \")\n",
        "x=cv2.imread(image_path)\n",
        "\n",
        "# Convert BGR to RGB for displaying with matplotlib\n",
        "xrgb=cv2.cvtColor(x,cv2.COLOR_BGR2RGB)\n",
        "plt.imshow(xrgb)\n",
        "plt.axis('off')\n",
        "plt.show()\n",
        "\n",
        "print(\"\\nImage Shape(Hight,Width,Channels):\",x.shape)"
      ]
    },
    {
      "cell_type": "code",
      "execution_count": 90,
      "metadata": {
        "id": "qlNU29iOEQsg"
      },
      "outputs": [],
      "source": [
        "# Encryption and Decryption Functions\n",
        "\n",
        "def derive_key(userkey):\n",
        "  return hashlib.sha256(userkey.encode()).digest()[:16]\n",
        "\n",
        "def encrypt_message(msg,userkey):\n",
        "  key = derive_key(userkey)\n",
        "  cipher = AES.new(key, AES.MODE_CBC)\n",
        "  ct=cipher.encrypt(pad(msg.encode(), AES.block_size))\n",
        "  return cipher.iv+ct\n",
        "\n",
        "def decrypt_message(cipher_bytes,userkey):\n",
        "  key = derive_key(userkey)\n",
        "  iv = cipher_bytes[:16]\n",
        "  ct=cipher_bytes[16:]\n",
        "  cipher = AES.new(key, AES.MODE_CBC, iv)\n",
        "  return unpad(cipher.decrypt(ct), AES.block_size).decode()"
      ]
    },
    {
      "cell_type": "code",
      "execution_count": 91,
      "metadata": {
        "id": "FeRxp4P9KOUZ"
      },
      "outputs": [],
      "source": [
        "# Byte Mapping Dictionaries (Not used in current LSB)\n",
        "d={}\n",
        "c={}\n",
        "for i in range(256):\n",
        "  d[chr(i)]=i\n",
        "  c[i]=chr(i)"
      ]
    },
    {
      "cell_type": "code",
      "execution_count": null,
      "metadata": {
        "colab": {
          "base_uri": "https://localhost:8080/"
        },
        "id": "RoXHYkleKhsa",
        "outputId": "367bc7d8-b031-48f0-e795-3a466e07ae49"
      },
      "outputs": [],
      "source": [
        "# Get User Input\n",
        "text=input(\"Enter Secret Message: \")\n",
        "key=input(\"Enter Key: \")"
      ]
    },
    {
      "cell_type": "code",
      "execution_count": null,
      "metadata": {
        "colab": {
          "base_uri": "https://localhost:8080/"
        },
        "id": "AAtwHwuqKjHq",
        "outputId": "b1c0ace5-2243-40a2-debe-c38e55f5d6d7"
      },
      "outputs": [],
      "source": [
        "# Encrypt Message with AES\n",
        "encrypted_bytes=encrypt_message(text,key)\n",
        "print(\"Encrypted Message:\",encrypted_bytes)\n",
        "# Note: 'l' is not the correct length for extraction later, use encrypted_len\n",
        "encrypted_len=len(encrypted_bytes)\n",
        "print(f\"Encrypted Message length(in Byte): {encrypted_len}\")"
      ]
    },
    {
      "cell_type": "code",
      "execution_count": 94,
      "metadata": {
        "id": "8AfBKnrQK5aV"
      },
      "outputs": [],
      "source": [
        "# Embed Encrypted Message into Image using LSB\n",
        "\n",
        "x_enc=x.copy()\n",
        "\n",
        "n,m,z=0,0,0\n",
        "# Use the length of the encrypted message for embedding\n",
        "encrypted_len=len(encrypted_bytes)\n",
        "for i in range(encrypted_len):\n",
        "  char_val=encrypted_bytes[i]\n",
        "  for bit_pos in range(8):\n",
        "    bit=(char_val>>(7-bit_pos))&1\n",
        "    org_val=x_enc[n,m,z]\n",
        "    x_enc[n,m,z]=(org_val & 254)|bit\n",
        "    z=(z+1)%3\n",
        "    if z==0:\n",
        "      m+=1\n",
        "      if m==x_enc.shape[1]:\n",
        "        m=0\n",
        "        n=n+1"
      ]
    },
    {
      "cell_type": "code",
      "execution_count": null,
      "metadata": {
        "colab": {
          "base_uri": "https://localhost:8080/"
        },
        "id": "w7onXOSyLWAf",
        "outputId": "d9b48687-aa28-43ac-d1c2-a5bfd4dd7540"
      },
      "outputs": [],
      "source": [
        "# Saving the Stego Image\n",
        "cv2.imwrite(\"encrypted_image.jpg\",x_enc)\n",
        "\n",
        "print(\"Data successfully Hidden and saved as'encrypted_image.jpg'\")"
      ]
    },
    {
      "cell_type": "code",
      "execution_count": null,
      "metadata": {
        "colab": {
          "base_uri": "https://localhost:8080/"
        },
        "id": "18f311c6",
        "outputId": "6e29e853-a6d2-4729-d1e2-dbf27d53c353"
      },
      "outputs": [],
      "source": [
        "# Extraction or the Decryption\n",
        "kl, n, m, z = 0, 0, 0, 0\n",
        "key1 = input(\"Enter the Key to extract the Data: \")\n",
        "\n",
        "if key == key1:\n",
        "  extracted_bytes = bytearray()\n",
        "  # Use encrypted_len for the loop limit\n",
        "  for i in range(encrypted_len):\n",
        "    val = 0\n",
        "    for bit_pos in range(8):\n",
        "      # Extract the least significant bit\n",
        "      bit = x_enc[n, m, z] & 1\n",
        "      val = (val << 1) | bit\n",
        "      z = (z + 1) % 3\n",
        "      if z == 0:\n",
        "        m += 1\n",
        "        if m == x_enc.shape[1]:\n",
        "          m = 0\n",
        "          n = n + 1\n",
        "    # Append the extracted byte\n",
        "    extracted_bytes.append(val)\n",
        "\n",
        "  try:\n",
        "    # Decrypt the extracted bytes\n",
        "    decrypted_message = decrypt_message(bytes(extracted_bytes), key)\n",
        "    print(\"Decrypted Message:\", decrypted_message)\n",
        "  except Exception as e:\n",
        "    print(f\"Error during decryption: {e}\")\n",
        "\n",
        "else:\n",
        "  print(\"Key Mismatched\")"
      ]
    }
  ],
  "metadata": {
    "colab": {
      "provenance": []
    },
    "kernelspec": {
      "display_name": "Python 3",
      "name": "python3"
    },
    "language_info": {
      "name": "python"
    }
  },
  "nbformat": 4,
  "nbformat_minor": 0
}
